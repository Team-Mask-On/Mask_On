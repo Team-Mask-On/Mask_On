{
  "nbformat": 4,
  "nbformat_minor": 0,
  "metadata": {
    "colab": {
      "name": "YOLO_Mask_Training&Detection.ipynb",
      "provenance": [],
      "collapsed_sections": [],
      "toc_visible": true
    },
    "kernelspec": {
      "name": "python3",
      "display_name": "Python 3"
    },
    "widgets": {
      "application/vnd.jupyter.widget-state+json": {
        "3e4988f1c1c947c79906373d95934041": {
          "model_module": "@jupyter-widgets/controls",
          "model_name": "HBoxModel",
          "state": {
            "_view_name": "HBoxView",
            "_dom_classes": [],
            "_model_name": "HBoxModel",
            "_view_module": "@jupyter-widgets/controls",
            "_model_module_version": "1.5.0",
            "_view_count": null,
            "_view_module_version": "1.5.0",
            "box_style": "",
            "layout": "IPY_MODEL_297849b84e3f4c318ebd66862d302fb8",
            "_model_module": "@jupyter-widgets/controls",
            "children": [
              "IPY_MODEL_dea6302a2f5b4a5f9a51aa3a66451e3a",
              "IPY_MODEL_b183a8a5d3db410aaf05dcd7ac382638"
            ]
          }
        },
        "297849b84e3f4c318ebd66862d302fb8": {
          "model_module": "@jupyter-widgets/base",
          "model_name": "LayoutModel",
          "state": {
            "_view_name": "LayoutView",
            "grid_template_rows": null,
            "right": null,
            "justify_content": null,
            "_view_module": "@jupyter-widgets/base",
            "overflow": null,
            "_model_module_version": "1.2.0",
            "_view_count": null,
            "flex_flow": null,
            "width": null,
            "min_width": null,
            "border": null,
            "align_items": null,
            "bottom": null,
            "_model_module": "@jupyter-widgets/base",
            "top": null,
            "grid_column": null,
            "overflow_y": null,
            "overflow_x": null,
            "grid_auto_flow": null,
            "grid_area": null,
            "grid_template_columns": null,
            "flex": null,
            "_model_name": "LayoutModel",
            "justify_items": null,
            "grid_row": null,
            "max_height": null,
            "align_content": null,
            "visibility": null,
            "align_self": null,
            "height": null,
            "min_height": null,
            "padding": null,
            "grid_auto_rows": null,
            "grid_gap": null,
            "max_width": null,
            "order": null,
            "_view_module_version": "1.2.0",
            "grid_template_areas": null,
            "object_position": null,
            "object_fit": null,
            "grid_auto_columns": null,
            "margin": null,
            "display": null,
            "left": null
          }
        },
        "dea6302a2f5b4a5f9a51aa3a66451e3a": {
          "model_module": "@jupyter-widgets/controls",
          "model_name": "FloatProgressModel",
          "state": {
            "_view_name": "ProgressView",
            "style": "IPY_MODEL_96b4c84381424baaa598cafecaa87368",
            "_dom_classes": [],
            "description": "100%",
            "_model_name": "FloatProgressModel",
            "bar_style": "success",
            "max": 853,
            "_view_module": "@jupyter-widgets/controls",
            "_model_module_version": "1.5.0",
            "value": 853,
            "_view_count": null,
            "_view_module_version": "1.5.0",
            "orientation": "horizontal",
            "min": 0,
            "description_tooltip": null,
            "_model_module": "@jupyter-widgets/controls",
            "layout": "IPY_MODEL_8ef1a5b0e54e4bc5890fef7921e63b06"
          }
        },
        "b183a8a5d3db410aaf05dcd7ac382638": {
          "model_module": "@jupyter-widgets/controls",
          "model_name": "HTMLModel",
          "state": {
            "_view_name": "HTMLView",
            "style": "IPY_MODEL_4879b5a3b75c4a64b32a30e0110409d9",
            "_dom_classes": [],
            "description": "",
            "_model_name": "HTMLModel",
            "placeholder": "​",
            "_view_module": "@jupyter-widgets/controls",
            "_model_module_version": "1.5.0",
            "value": " 853/853 [06:18&lt;00:00,  2.25it/s]",
            "_view_count": null,
            "_view_module_version": "1.5.0",
            "description_tooltip": null,
            "_model_module": "@jupyter-widgets/controls",
            "layout": "IPY_MODEL_dd6d28a4dd4348c1b00ee03235a4b744"
          }
        },
        "96b4c84381424baaa598cafecaa87368": {
          "model_module": "@jupyter-widgets/controls",
          "model_name": "ProgressStyleModel",
          "state": {
            "_view_name": "StyleView",
            "_model_name": "ProgressStyleModel",
            "description_width": "initial",
            "_view_module": "@jupyter-widgets/base",
            "_model_module_version": "1.5.0",
            "_view_count": null,
            "_view_module_version": "1.2.0",
            "bar_color": null,
            "_model_module": "@jupyter-widgets/controls"
          }
        },
        "8ef1a5b0e54e4bc5890fef7921e63b06": {
          "model_module": "@jupyter-widgets/base",
          "model_name": "LayoutModel",
          "state": {
            "_view_name": "LayoutView",
            "grid_template_rows": null,
            "right": null,
            "justify_content": null,
            "_view_module": "@jupyter-widgets/base",
            "overflow": null,
            "_model_module_version": "1.2.0",
            "_view_count": null,
            "flex_flow": null,
            "width": null,
            "min_width": null,
            "border": null,
            "align_items": null,
            "bottom": null,
            "_model_module": "@jupyter-widgets/base",
            "top": null,
            "grid_column": null,
            "overflow_y": null,
            "overflow_x": null,
            "grid_auto_flow": null,
            "grid_area": null,
            "grid_template_columns": null,
            "flex": null,
            "_model_name": "LayoutModel",
            "justify_items": null,
            "grid_row": null,
            "max_height": null,
            "align_content": null,
            "visibility": null,
            "align_self": null,
            "height": null,
            "min_height": null,
            "padding": null,
            "grid_auto_rows": null,
            "grid_gap": null,
            "max_width": null,
            "order": null,
            "_view_module_version": "1.2.0",
            "grid_template_areas": null,
            "object_position": null,
            "object_fit": null,
            "grid_auto_columns": null,
            "margin": null,
            "display": null,
            "left": null
          }
        },
        "4879b5a3b75c4a64b32a30e0110409d9": {
          "model_module": "@jupyter-widgets/controls",
          "model_name": "DescriptionStyleModel",
          "state": {
            "_view_name": "StyleView",
            "_model_name": "DescriptionStyleModel",
            "description_width": "",
            "_view_module": "@jupyter-widgets/base",
            "_model_module_version": "1.5.0",
            "_view_count": null,
            "_view_module_version": "1.2.0",
            "_model_module": "@jupyter-widgets/controls"
          }
        },
        "dd6d28a4dd4348c1b00ee03235a4b744": {
          "model_module": "@jupyter-widgets/base",
          "model_name": "LayoutModel",
          "state": {
            "_view_name": "LayoutView",
            "grid_template_rows": null,
            "right": null,
            "justify_content": null,
            "_view_module": "@jupyter-widgets/base",
            "overflow": null,
            "_model_module_version": "1.2.0",
            "_view_count": null,
            "flex_flow": null,
            "width": null,
            "min_width": null,
            "border": null,
            "align_items": null,
            "bottom": null,
            "_model_module": "@jupyter-widgets/base",
            "top": null,
            "grid_column": null,
            "overflow_y": null,
            "overflow_x": null,
            "grid_auto_flow": null,
            "grid_area": null,
            "grid_template_columns": null,
            "flex": null,
            "_model_name": "LayoutModel",
            "justify_items": null,
            "grid_row": null,
            "max_height": null,
            "align_content": null,
            "visibility": null,
            "align_self": null,
            "height": null,
            "min_height": null,
            "padding": null,
            "grid_auto_rows": null,
            "grid_gap": null,
            "max_width": null,
            "order": null,
            "_view_module_version": "1.2.0",
            "grid_template_areas": null,
            "object_position": null,
            "object_fit": null,
            "grid_auto_columns": null,
            "margin": null,
            "display": null,
            "left": null
          }
        }
      }
    },
    "accelerator": "GPU"
  },
  "cells": [
    {
      "cell_type": "code",
      "metadata": {
        "colab": {
          "base_uri": "https://localhost:8080/",
          "height": 1000
        },
        "id": "aM3ctdrJQD9j",
        "outputId": "c4124e18-2968-4620-bb1a-a696016f0197"
      },
      "source": [
        "!git clone https://github.com/Limm-jk/yolov5.git\r\n",
        "!pip install -U -r yolov5/requirements.txt  # install dependencies\r\n",
        "\r\n",
        "%cd /content/yolov5"
      ],
      "execution_count": null,
      "outputs": [
        {
          "output_type": "stream",
          "text": [
            "Cloning into 'yolov5'...\n",
            "remote: Enumerating objects: 4263, done.\u001b[K\n",
            "remote: Total 4263 (delta 0), reused 0 (delta 0), pack-reused 4263\u001b[K\n",
            "Receiving objects: 100% (4263/4263), 7.30 MiB | 3.60 MiB/s, done.\n",
            "Resolving deltas: 100% (2893/2893), done.\n",
            "Requirement already up-to-date: Cython in /usr/local/lib/python3.6/dist-packages (from -r yolov5/requirements.txt (line 4)) (0.29.21)\n",
            "Collecting matplotlib>=3.2.2\n",
            "\u001b[?25l  Downloading https://files.pythonhosted.org/packages/d2/43/2bd63467490036697e7be71444fafc7b236923d614d4521979a200c6b559/matplotlib-3.3.3-cp36-cp36m-manylinux1_x86_64.whl (11.6MB)\n",
            "\u001b[K     |████████████████████████████████| 11.6MB 4.1MB/s \n",
            "\u001b[?25hRequirement already up-to-date: numpy>=1.18.5 in /usr/local/lib/python3.6/dist-packages (from -r yolov5/requirements.txt (line 6)) (1.19.5)\n",
            "Collecting opencv-python>=4.1.2\n",
            "\u001b[?25l  Downloading https://files.pythonhosted.org/packages/e0/20/4d78eb1ce337efd609ade8ebe0c82260cd47dd73f8c57dcfe4814c6a3b59/opencv_python-4.5.1.48-cp36-cp36m-manylinux2014_x86_64.whl (50.4MB)\n",
            "\u001b[K     |████████████████████████████████| 50.4MB 64kB/s \n",
            "\u001b[?25hCollecting Pillow\n",
            "\u001b[?25l  Downloading https://files.pythonhosted.org/packages/b6/c0/442d9d87e0da00bf856ef6dd4916f84a2d710b5f1a367d42d7f3c4e99a6c/Pillow-8.1.0-cp36-cp36m-manylinux1_x86_64.whl (2.2MB)\n",
            "\u001b[K     |████████████████████████████████| 2.2MB 37.1MB/s \n",
            "\u001b[?25hCollecting PyYAML>=5.3\n",
            "\u001b[?25l  Downloading https://files.pythonhosted.org/packages/64/c2/b80047c7ac2478f9501676c988a5411ed5572f35d1beff9cae07d321512c/PyYAML-5.3.1.tar.gz (269kB)\n",
            "\u001b[K     |████████████████████████████████| 276kB 38.6MB/s \n",
            "\u001b[?25hCollecting scipy>=1.4.1\n",
            "\u001b[?25l  Downloading https://files.pythonhosted.org/packages/c8/89/63171228d5ced148f5ced50305c89e8576ffc695a90b58fe5bb602b910c2/scipy-1.5.4-cp36-cp36m-manylinux1_x86_64.whl (25.9MB)\n",
            "\u001b[K     |████████████████████████████████| 25.9MB 125kB/s \n",
            "\u001b[?25hCollecting tensorboard>=2.2\n",
            "\u001b[?25l  Downloading https://files.pythonhosted.org/packages/64/21/eebd23060763fedeefb78bc2b286e00fa1d8abda6f70efa2ee08c28af0d4/tensorboard-2.4.1-py3-none-any.whl (10.6MB)\n",
            "\u001b[K     |████████████████████████████████| 10.6MB 41.2MB/s \n",
            "\u001b[?25hCollecting torch>=1.7.0\n",
            "\u001b[?25l  Downloading https://files.pythonhosted.org/packages/90/4f/acf48b3a18a8f9223c6616647f0a011a5713a985336088d7c76f3a211374/torch-1.7.1-cp36-cp36m-manylinux1_x86_64.whl (776.8MB)\n",
            "\u001b[K     |████████████████████████████████| 776.8MB 25kB/s \n",
            "\u001b[?25hCollecting torchvision>=0.8.1\n",
            "\u001b[?25l  Downloading https://files.pythonhosted.org/packages/19/f1/d1d9b2be9f50e840accfa180ec2fb759dd2504f2b3a12a232398d5fa00ae/torchvision-0.8.2-cp36-cp36m-manylinux1_x86_64.whl (12.8MB)\n",
            "\u001b[K     |████████████████████████████████| 12.8MB 212kB/s \n",
            "\u001b[?25hCollecting tqdm>=4.41.0\n",
            "\u001b[?25l  Downloading https://files.pythonhosted.org/packages/80/02/8f8880a4fd6625461833abcf679d4c12a44c76f9925f92bf212bb6cefaad/tqdm-4.56.0-py2.py3-none-any.whl (72kB)\n",
            "\u001b[K     |████████████████████████████████| 81kB 8.9MB/s \n",
            "\u001b[?25hRequirement already up-to-date: seaborn>=0.11.0 in /usr/local/lib/python3.6/dist-packages (from -r yolov5/requirements.txt (line 20)) (0.11.1)\n",
            "Requirement already up-to-date: pandas in /usr/local/lib/python3.6/dist-packages (from -r yolov5/requirements.txt (line 21)) (1.1.5)\n",
            "Collecting thop\n",
            "  Downloading https://files.pythonhosted.org/packages/6c/8b/22ce44e1c71558161a8bd54471123cc796589c7ebbfc15a7e8932e522f83/thop-0.0.31.post2005241907-py3-none-any.whl\n",
            "Requirement already up-to-date: pycocotools>=2.0 in /usr/local/lib/python3.6/dist-packages (from -r yolov5/requirements.txt (line 30)) (2.0.2)\n",
            "Requirement already satisfied, skipping upgrade: pyparsing!=2.0.4,!=2.1.2,!=2.1.6,>=2.0.3 in /usr/local/lib/python3.6/dist-packages (from matplotlib>=3.2.2->-r yolov5/requirements.txt (line 5)) (2.4.7)\n",
            "Requirement already satisfied, skipping upgrade: cycler>=0.10 in /usr/local/lib/python3.6/dist-packages (from matplotlib>=3.2.2->-r yolov5/requirements.txt (line 5)) (0.10.0)\n",
            "Requirement already satisfied, skipping upgrade: python-dateutil>=2.1 in /usr/local/lib/python3.6/dist-packages (from matplotlib>=3.2.2->-r yolov5/requirements.txt (line 5)) (2.8.1)\n",
            "Requirement already satisfied, skipping upgrade: kiwisolver>=1.0.1 in /usr/local/lib/python3.6/dist-packages (from matplotlib>=3.2.2->-r yolov5/requirements.txt (line 5)) (1.3.1)\n",
            "Requirement already satisfied, skipping upgrade: grpcio>=1.24.3 in /usr/local/lib/python3.6/dist-packages (from tensorboard>=2.2->-r yolov5/requirements.txt (line 11)) (1.32.0)\n",
            "Requirement already satisfied, skipping upgrade: setuptools>=41.0.0 in /usr/local/lib/python3.6/dist-packages (from tensorboard>=2.2->-r yolov5/requirements.txt (line 11)) (51.1.1)\n",
            "Requirement already satisfied, skipping upgrade: wheel>=0.26; python_version >= \"3\" in /usr/local/lib/python3.6/dist-packages (from tensorboard>=2.2->-r yolov5/requirements.txt (line 11)) (0.36.2)\n",
            "Requirement already satisfied, skipping upgrade: absl-py>=0.4 in /usr/local/lib/python3.6/dist-packages (from tensorboard>=2.2->-r yolov5/requirements.txt (line 11)) (0.10.0)\n",
            "Requirement already satisfied, skipping upgrade: google-auth<2,>=1.6.3 in /usr/local/lib/python3.6/dist-packages (from tensorboard>=2.2->-r yolov5/requirements.txt (line 11)) (1.17.2)\n",
            "Requirement already satisfied, skipping upgrade: tensorboard-plugin-wit>=1.6.0 in /usr/local/lib/python3.6/dist-packages (from tensorboard>=2.2->-r yolov5/requirements.txt (line 11)) (1.7.0)\n",
            "Requirement already satisfied, skipping upgrade: protobuf>=3.6.0 in /usr/local/lib/python3.6/dist-packages (from tensorboard>=2.2->-r yolov5/requirements.txt (line 11)) (3.12.4)\n",
            "Requirement already satisfied, skipping upgrade: requests<3,>=2.21.0 in /usr/local/lib/python3.6/dist-packages (from tensorboard>=2.2->-r yolov5/requirements.txt (line 11)) (2.23.0)\n",
            "Requirement already satisfied, skipping upgrade: werkzeug>=0.11.15 in /usr/local/lib/python3.6/dist-packages (from tensorboard>=2.2->-r yolov5/requirements.txt (line 11)) (1.0.1)\n",
            "Requirement already satisfied, skipping upgrade: six>=1.10.0 in /usr/local/lib/python3.6/dist-packages (from tensorboard>=2.2->-r yolov5/requirements.txt (line 11)) (1.15.0)\n",
            "Requirement already satisfied, skipping upgrade: google-auth-oauthlib<0.5,>=0.4.1 in /usr/local/lib/python3.6/dist-packages (from tensorboard>=2.2->-r yolov5/requirements.txt (line 11)) (0.4.2)\n",
            "Requirement already satisfied, skipping upgrade: markdown>=2.6.8 in /usr/local/lib/python3.6/dist-packages (from tensorboard>=2.2->-r yolov5/requirements.txt (line 11)) (3.3.3)\n",
            "Requirement already satisfied, skipping upgrade: typing-extensions in /usr/local/lib/python3.6/dist-packages (from torch>=1.7.0->-r yolov5/requirements.txt (line 12)) (3.7.4.3)\n",
            "Requirement already satisfied, skipping upgrade: dataclasses; python_version < \"3.7\" in /usr/local/lib/python3.6/dist-packages (from torch>=1.7.0->-r yolov5/requirements.txt (line 12)) (0.8)\n",
            "Requirement already satisfied, skipping upgrade: pytz>=2017.2 in /usr/local/lib/python3.6/dist-packages (from pandas->-r yolov5/requirements.txt (line 21)) (2018.9)\n",
            "Requirement already satisfied, skipping upgrade: cachetools<5.0,>=2.0.0 in /usr/local/lib/python3.6/dist-packages (from google-auth<2,>=1.6.3->tensorboard>=2.2->-r yolov5/requirements.txt (line 11)) (4.2.0)\n",
            "Requirement already satisfied, skipping upgrade: pyasn1-modules>=0.2.1 in /usr/local/lib/python3.6/dist-packages (from google-auth<2,>=1.6.3->tensorboard>=2.2->-r yolov5/requirements.txt (line 11)) (0.2.8)\n",
            "Requirement already satisfied, skipping upgrade: rsa<5,>=3.1.4; python_version >= \"3\" in /usr/local/lib/python3.6/dist-packages (from google-auth<2,>=1.6.3->tensorboard>=2.2->-r yolov5/requirements.txt (line 11)) (4.6)\n",
            "Requirement already satisfied, skipping upgrade: chardet<4,>=3.0.2 in /usr/local/lib/python3.6/dist-packages (from requests<3,>=2.21.0->tensorboard>=2.2->-r yolov5/requirements.txt (line 11)) (3.0.4)\n",
            "Requirement already satisfied, skipping upgrade: certifi>=2017.4.17 in /usr/local/lib/python3.6/dist-packages (from requests<3,>=2.21.0->tensorboard>=2.2->-r yolov5/requirements.txt (line 11)) (2020.12.5)\n",
            "Requirement already satisfied, skipping upgrade: idna<3,>=2.5 in /usr/local/lib/python3.6/dist-packages (from requests<3,>=2.21.0->tensorboard>=2.2->-r yolov5/requirements.txt (line 11)) (2.10)\n",
            "Requirement already satisfied, skipping upgrade: urllib3!=1.25.0,!=1.25.1,<1.26,>=1.21.1 in /usr/local/lib/python3.6/dist-packages (from requests<3,>=2.21.0->tensorboard>=2.2->-r yolov5/requirements.txt (line 11)) (1.24.3)\n",
            "Requirement already satisfied, skipping upgrade: requests-oauthlib>=0.7.0 in /usr/local/lib/python3.6/dist-packages (from google-auth-oauthlib<0.5,>=0.4.1->tensorboard>=2.2->-r yolov5/requirements.txt (line 11)) (1.3.0)\n",
            "Requirement already satisfied, skipping upgrade: importlib-metadata; python_version < \"3.8\" in /usr/local/lib/python3.6/dist-packages (from markdown>=2.6.8->tensorboard>=2.2->-r yolov5/requirements.txt (line 11)) (3.3.0)\n",
            "Requirement already satisfied, skipping upgrade: pyasn1<0.5.0,>=0.4.6 in /usr/local/lib/python3.6/dist-packages (from pyasn1-modules>=0.2.1->google-auth<2,>=1.6.3->tensorboard>=2.2->-r yolov5/requirements.txt (line 11)) (0.4.8)\n",
            "Requirement already satisfied, skipping upgrade: oauthlib>=3.0.0 in /usr/local/lib/python3.6/dist-packages (from requests-oauthlib>=0.7.0->google-auth-oauthlib<0.5,>=0.4.1->tensorboard>=2.2->-r yolov5/requirements.txt (line 11)) (3.1.0)\n",
            "Requirement already satisfied, skipping upgrade: zipp>=0.5 in /usr/local/lib/python3.6/dist-packages (from importlib-metadata; python_version < \"3.8\"->markdown>=2.6.8->tensorboard>=2.2->-r yolov5/requirements.txt (line 11)) (3.4.0)\n",
            "Building wheels for collected packages: PyYAML\n",
            "  Building wheel for PyYAML (setup.py) ... \u001b[?25l\u001b[?25hdone\n",
            "  Created wheel for PyYAML: filename=PyYAML-5.3.1-cp36-cp36m-linux_x86_64.whl size=44621 sha256=3f38929e46ee25cf3290f2ec9f8881485c3de98f7b7c14b21c212b8d13a4639a\n",
            "  Stored in directory: /root/.cache/pip/wheels/a7/c1/ea/cf5bd31012e735dc1dfea3131a2d5eae7978b251083d6247bd\n",
            "Successfully built PyYAML\n",
            "\u001b[31mERROR: albumentations 0.1.12 has requirement imgaug<0.2.7,>=0.2.5, but you'll have imgaug 0.2.9 which is incompatible.\u001b[0m\n",
            "Installing collected packages: Pillow, matplotlib, opencv-python, PyYAML, scipy, tensorboard, torch, torchvision, tqdm, thop\n",
            "  Found existing installation: Pillow 7.0.0\n",
            "    Uninstalling Pillow-7.0.0:\n",
            "      Successfully uninstalled Pillow-7.0.0\n",
            "  Found existing installation: matplotlib 3.2.2\n",
            "    Uninstalling matplotlib-3.2.2:\n",
            "      Successfully uninstalled matplotlib-3.2.2\n",
            "  Found existing installation: opencv-python 4.1.2.30\n",
            "    Uninstalling opencv-python-4.1.2.30:\n",
            "      Successfully uninstalled opencv-python-4.1.2.30\n",
            "  Found existing installation: PyYAML 3.13\n",
            "    Uninstalling PyYAML-3.13:\n",
            "      Successfully uninstalled PyYAML-3.13\n",
            "  Found existing installation: scipy 1.4.1\n",
            "    Uninstalling scipy-1.4.1:\n",
            "      Successfully uninstalled scipy-1.4.1\n",
            "  Found existing installation: tensorboard 2.4.0\n",
            "    Uninstalling tensorboard-2.4.0:\n",
            "      Successfully uninstalled tensorboard-2.4.0\n",
            "  Found existing installation: torch 1.7.0+cu101\n",
            "    Uninstalling torch-1.7.0+cu101:\n",
            "      Successfully uninstalled torch-1.7.0+cu101\n",
            "  Found existing installation: torchvision 0.8.1+cu101\n",
            "    Uninstalling torchvision-0.8.1+cu101:\n",
            "      Successfully uninstalled torchvision-0.8.1+cu101\n",
            "  Found existing installation: tqdm 4.41.1\n",
            "    Uninstalling tqdm-4.41.1:\n",
            "      Successfully uninstalled tqdm-4.41.1\n",
            "Successfully installed Pillow-8.1.0 PyYAML-5.3.1 matplotlib-3.3.3 opencv-python-4.5.1.48 scipy-1.5.4 tensorboard-2.4.1 thop-0.0.31.post2005241907 torch-1.7.1 torchvision-0.8.2 tqdm-4.56.0\n"
          ],
          "name": "stdout"
        },
        {
          "output_type": "display_data",
          "data": {
            "application/vnd.colab-display-data+json": {
              "pip_warning": {
                "packages": [
                  "PIL",
                  "matplotlib",
                  "mpl_toolkits"
                ]
              }
            }
          },
          "metadata": {
            "tags": []
          }
        },
        {
          "output_type": "stream",
          "text": [
            "/content/yolov5\n"
          ],
          "name": "stdout"
        }
      ]
    },
    {
      "cell_type": "code",
      "metadata": {
        "id": "uuWih3hoPm8q"
      },
      "source": [
        "import os\r\n",
        "from pathlib import Path\r\n",
        "\r\n",
        "import pandas as pd\r\n",
        "import numpy as np\r\n",
        "import matplotlib.pyplot as plt\r\n",
        "import seaborn as sns\r\n",
        "import cv2\r\n",
        "\r\n",
        "from pathlib import Path\r\n",
        "from xml.dom.minidom import parse\r\n",
        "# xml parser\r\n",
        "from tqdm.auto import tqdm\r\n",
        "# 오래걸리는 반복문 시각화\r\n",
        "from shutil import copyfile\r\n",
        "\r\n",
        "from IPython.display import Image"
      ],
      "execution_count": null,
      "outputs": []
    },
    {
      "cell_type": "code",
      "metadata": {
        "id": "Gh9mVNUHZ6gQ"
      },
      "source": [
        "!mkdir -p Dataset/FaceMask/Images\r\n",
        "!mkdir -p Dataset/FaceMask/Labels"
      ],
      "execution_count": null,
      "outputs": []
    },
    {
      "cell_type": "code",
      "metadata": {
        "id": "LFp7EJataDrT"
      },
      "source": [
        "!cp -rf /content/drive/MyDrive/Colab\\ Notebooks/mask_dataset/merge_image/ /content/yolov5/Dataset/FaceMask/Images"
      ],
      "execution_count": null,
      "outputs": []
    },
    {
      "cell_type": "code",
      "metadata": {
        "id": "0nDly2z5abkA"
      },
      "source": [
        "!mkdir -p Dataset/images Dataset/labels"
      ],
      "execution_count": null,
      "outputs": []
    },
    {
      "cell_type": "markdown",
      "metadata": {
        "id": "-R9YEc9Tax-r"
      },
      "source": [
        "### convert annotations (from COCO .xml to YOLO format .txt)\r\n",
        "\r\n",
        "COCO는 여러 일상 데이터셋.  \r\n",
        "이를 이용해서 많은 detection의 발전을 이루어와서 이를 이용한 annotation을 많이 사용.\r\n",
        "\r\n",
        "하지만 YOLO가 필요한 목표행렬 Y는 text형식.  \r\n",
        "yml도 되긴하는데, 형식의 차이가 조금씩 존재해서 convert해서 사용하도록 하겠다.  \r\n",
        "또한, 이 text형식이 prediction의 output과도 동일함.\r\n",
        "```\r\n",
        "/Dataset/FaceMask/Labels/*.txt  \r\n",
        "[class, x, y, w, h]\r\n",
        "```"
      ]
    },
    {
      "cell_type": "code",
      "metadata": {
        "id": "zwHAjPthanQL"
      },
      "source": [
        "FILE_ROOT = \"/content/drive/MyDrive/Colab Notebooks/mask_dataset/\"\r\n",
        "IMAGE_PATH = FILE_ROOT + \"images\"  \r\n",
        "ANNOTATIONS_PATH = FILE_ROOT + \"annotations\"\r\n",
        "\r\n",
        "DATA_ROOT = \"/content/yolov5/Dataset/\"\r\n",
        "LABELS_ROOT = DATA_ROOT + \"FaceMask/Labels\"\r\n",
        "IMAGES_ROOT = DATA_ROOT + \"FaceMask/Images/images/\"  \r\n",
        "\r\n",
        "DEST_IMAGES_PATH = \"images\"\r\n",
        "DEST_LABELS_PATH = \"labels\" "
      ],
      "execution_count": null,
      "outputs": []
    },
    {
      "cell_type": "code",
      "metadata": {
        "id": "ZzUlj01hgJuv"
      },
      "source": [
        "classes = ['with_mask', 'without_mask', 'mask_weared_incorrect']"
      ],
      "execution_count": null,
      "outputs": []
    },
    {
      "cell_type": "code",
      "metadata": {
        "id": "5R0qkEdLf5I7"
      },
      "source": [
        "# x1 x2 y1 y2는 사용하기 어려움.\r\n",
        "# detection의 표준인 x y w h로 변환\r\n",
        "def convert_data(size, box):\r\n",
        "    x1 = int(box[0])\r\n",
        "    y1 = int(box[1])\r\n",
        "    x2 = int(box[2])\r\n",
        "    y2 = int(box[3])\r\n",
        "\r\n",
        "    dw = np.float32(1. / int(size[0]))\r\n",
        "    dh = np.float32(1. / int(size[1]))\r\n",
        "\r\n",
        "    w = x2 - x1\r\n",
        "    h = y2 - y1\r\n",
        "    x = x1 + (w / 2)\r\n",
        "    y = y1 + (h / 2)\r\n",
        "\r\n",
        "    x = x * dw\r\n",
        "    w = w * dw\r\n",
        "    y = y * dh\r\n",
        "    h = h * dh\r\n",
        "    return [x, y, w, h]\r\n",
        "\r\n",
        "def save_file(img_jpg_file_name, size, img_box):\r\n",
        "    save_file_name = LABELS_ROOT + '/' + img_jpg_file_name + '.txt'\r\n",
        "    # print(save_file_name)\r\n",
        "    file_path = open(save_file_name, \"a+\")\r\n",
        "    for box in img_box:\r\n",
        "\r\n",
        "        cls_num = classes.index(box[0])\r\n",
        "\r\n",
        "        new_box = convert_data(size, box[1:])\r\n",
        "\r\n",
        "        file_path.write(f\"{cls_num} {new_box[0]} {new_box[1]} {new_box[2]} {new_box[3]}\\n\")\r\n",
        "\r\n",
        "    file_path.flush()\r\n",
        "    file_path.close()\r\n",
        "    \r\n",
        "# xml파일을 분해해서 txt로 만듦\r\n",
        "def get_xml_data(file_path, img_xml_file):\r\n",
        "    img_path = file_path + '/' + img_xml_file + '.xml'\r\n",
        "    # print(img_path)\r\n",
        "\r\n",
        "    dom = parse(img_path)\r\n",
        "    root = dom.documentElement\r\n",
        "    img_name = root.getElementsByTagName(\"filename\")[0].childNodes[0].data\r\n",
        "    img_size = root.getElementsByTagName(\"size\")[0]\r\n",
        "    objects = root.getElementsByTagName(\"object\")\r\n",
        "    img_w = img_size.getElementsByTagName(\"width\")[0].childNodes[0].data\r\n",
        "    img_h = img_size.getElementsByTagName(\"height\")[0].childNodes[0].data\r\n",
        "    img_c = img_size.getElementsByTagName(\"depth\")[0].childNodes[0].data\r\n",
        "    # print(\"img_name:\", img_name)\r\n",
        "    # print(\"image_info:(w,h,c)\", img_w, img_h, img_c)\r\n",
        "    img_box = []\r\n",
        "    for box in objects:\r\n",
        "        cls_name = box.getElementsByTagName(\"name\")[0].childNodes[0].data\r\n",
        "        x1 = int(box.getElementsByTagName(\"xmin\")[0].childNodes[0].data)\r\n",
        "        y1 = int(box.getElementsByTagName(\"ymin\")[0].childNodes[0].data)\r\n",
        "        x2 = int(box.getElementsByTagName(\"xmax\")[0].childNodes[0].data)\r\n",
        "        y2 = int(box.getElementsByTagName(\"ymax\")[0].childNodes[0].data)\r\n",
        "        # print(\"box:(c,xmin,ymin,xmax,ymax)\", cls_name, x1, y1, x2, y2)\r\n",
        "        img_jpg_file_name = img_xml_file + '.jpg'\r\n",
        "        img_box.append([cls_name, x1, y1, x2, y2])\r\n",
        "    # print(img_box)\r\n",
        "\r\n",
        "    save_file(img_xml_file, [img_w, img_h], img_box)"
      ],
      "execution_count": null,
      "outputs": []
    },
    {
      "cell_type": "code",
      "metadata": {
        "colab": {
          "base_uri": "https://localhost:8080/",
          "height": 66,
          "referenced_widgets": [
            "3e4988f1c1c947c79906373d95934041",
            "297849b84e3f4c318ebd66862d302fb8",
            "dea6302a2f5b4a5f9a51aa3a66451e3a",
            "b183a8a5d3db410aaf05dcd7ac382638",
            "96b4c84381424baaa598cafecaa87368",
            "8ef1a5b0e54e4bc5890fef7921e63b06",
            "4879b5a3b75c4a64b32a30e0110409d9",
            "dd6d28a4dd4348c1b00ee03235a4b744"
          ]
        },
        "id": "7p2JDLuxf-Z5",
        "outputId": "61e3b29d-211c-4a14-a0a9-343ceee84fea"
      },
      "source": [
        "files = os.listdir(ANNOTATIONS_PATH)\r\n",
        "for file in tqdm(files):\r\n",
        "    # print(\"file name: \", file)\r\n",
        "    file_xml = file.split(\".\")\r\n",
        "    get_xml_data(ANNOTATIONS_PATH, file_xml[0])"
      ],
      "execution_count": null,
      "outputs": [
        {
          "output_type": "display_data",
          "data": {
            "application/vnd.jupyter.widget-view+json": {
              "model_id": "3e4988f1c1c947c79906373d95934041",
              "version_minor": 0,
              "version_major": 2
            },
            "text/plain": [
              "HBox(children=(FloatProgress(value=0.0, max=853.0), HTML(value='')))"
            ]
          },
          "metadata": {
            "tags": []
          }
        },
        {
          "output_type": "stream",
          "text": [
            "\n"
          ],
          "name": "stdout"
        }
      ]
    },
    {
      "cell_type": "code",
      "metadata": {
        "id": "lh3oRsz2T7jW"
      },
      "source": [
        ""
      ],
      "execution_count": null,
      "outputs": []
    },
    {
      "cell_type": "markdown",
      "metadata": {
        "id": "aAED_BhxjAjh"
      },
      "source": [
        "## split Images dataset"
      ]
    },
    {
      "cell_type": "code",
      "metadata": {
        "colab": {
          "base_uri": "https://localhost:8080/"
        },
        "id": "S27TuIssf-Uq",
        "outputId": "b4846802-13d5-4303-b340-f6b57ca897e8"
      },
      "source": [
        "from sklearn.model_selection import train_test_split\r\n",
        "image_list = os.listdir(IMAGES_ROOT)\r\n",
        "train_list, test_list = train_test_split(image_list, test_size=0.2, random_state=7)\r\n",
        "val_list, test_list = train_test_split(test_list, test_size=0.5, random_state=8)\r\n",
        "\r\n",
        "# 파일 이름을 분류함\r\n",
        "print('total :',len(image_list))\r\n",
        "print('train :',len(train_list))\r\n",
        "print('val   :',len(val_list))\r\n",
        "print('test  :',len(test_list))"
      ],
      "execution_count": null,
      "outputs": [
        {
          "output_type": "stream",
          "text": [
            "total : 853\n",
            "train : 682\n",
            "val   : 85\n",
            "test  : 86\n"
          ],
          "name": "stdout"
        }
      ]
    },
    {
      "cell_type": "code",
      "metadata": {
        "id": "7FueuNsEilLd"
      },
      "source": [
        "def copy_data(file_list, img_labels_root, imgs_source, type):\r\n",
        "    # path 체크 / 없으면 생성\r\n",
        "    root_file = Path(DATA_ROOT + DEST_IMAGES_PATH + '/' + type)\r\n",
        "    if not root_file.exists():\r\n",
        "        print(f\"Path {root_file} is not exit\")\r\n",
        "        os.makedirs(root_file)\r\n",
        "        print(f\"Make {root_file} Directory\")\r\n",
        "\r\n",
        "    root_file = Path(DATA_ROOT + DEST_LABELS_PATH + '/' + type)\r\n",
        "    if not root_file.exists():\r\n",
        "        print(f\"Path {root_file} is not exit\")\r\n",
        "        os.makedirs(root_file)\r\n",
        "        print(f\"Make {root_file} Directory\")\r\n",
        "\r\n",
        "\r\n",
        "    # 분류된 파일 이름을 기준으로 소스폴더에서 파일을 타겟폴더로 복사함\r\n",
        "    for file in file_list:\r\n",
        "        img_name = file.replace('.png', '')\r\n",
        "        img_src_file = imgs_source + '/' + img_name + '.png'\r\n",
        "        label_src_file = img_labels_root + '/' + img_name + '.txt'\r\n",
        "\r\n",
        "        # Copy image\r\n",
        "        DICT_DIR = DATA_ROOT + DEST_IMAGES_PATH + '/' + type\r\n",
        "        img_dict_file = DICT_DIR + '/' + img_name + '.png'\r\n",
        "\r\n",
        "        copyfile(img_src_file, img_dict_file)\r\n",
        "\r\n",
        "        # Copy label\r\n",
        "        DICT_DIR = DATA_ROOT + DEST_LABELS_PATH + '/' + type\r\n",
        "        img_dict_file = DICT_DIR + '/' + img_name + '.txt'\r\n",
        "        copyfile(label_src_file, img_dict_file)"
      ],
      "execution_count": null,
      "outputs": []
    },
    {
      "cell_type": "code",
      "metadata": {
        "id": "9FoEU-_NjxHs",
        "colab": {
          "base_uri": "https://localhost:8080/"
        },
        "outputId": "3289f27a-7ca1-4621-be4f-72792bd73470"
      },
      "source": [
        "copy_data(train_list, LABELS_ROOT, IMAGES_ROOT, \"train\")\r\n",
        "copy_data(val_list,   LABELS_ROOT, IMAGES_ROOT, \"val\")\r\n",
        "copy_data(test_list,  LABELS_ROOT, IMAGES_ROOT, \"test\")"
      ],
      "execution_count": null,
      "outputs": [
        {
          "output_type": "stream",
          "text": [
            "Path /content/yolov5/Dataset/images/train is not exit\n",
            "Make /content/yolov5/Dataset/images/train Directory\n",
            "Path /content/yolov5/Dataset/labels/train is not exit\n",
            "Make /content/yolov5/Dataset/labels/train Directory\n",
            "Path /content/yolov5/Dataset/images/val is not exit\n",
            "Make /content/yolov5/Dataset/images/val Directory\n",
            "Path /content/yolov5/Dataset/labels/val is not exit\n",
            "Make /content/yolov5/Dataset/labels/val Directory\n",
            "Path /content/yolov5/Dataset/images/test is not exit\n",
            "Make /content/yolov5/Dataset/images/test Directory\n",
            "Path /content/yolov5/Dataset/labels/test is not exit\n",
            "Make /content/yolov5/Dataset/labels/test Directory\n"
          ],
          "name": "stdout"
        }
      ]
    },
    {
      "cell_type": "markdown",
      "metadata": {
        "id": "_BQAWB95kr1M"
      },
      "source": [
        "## Create YML file\r\n",
        "학습을 위해서 학습에 대한 정보를 제공하는 yml파일을 만들어야 한다.\r\n",
        "\r\n",
        "\r\n",
        "1.   train : train path\r\n",
        "2.   val : validation path\r\n",
        "3.   nc : number of class\r\n",
        "4.   names : 클래스 이름 배열\r\n",
        "\r\n"
      ]
    },
    {
      "cell_type": "code",
      "metadata": {
        "id": "qYgVEFPwkrLu",
        "colab": {
          "base_uri": "https://localhost:8080/"
        },
        "outputId": "a337be02-1f28-482f-f3d1-5b4a1dfd7209"
      },
      "source": [
        "!echo \"train: Dataset/images/train\\n\" > data/facemask.yaml\r\n",
        "!echo \"val:   Dataset/images/val\\n\" >> data/facemask.yaml\r\n",
        "!echo \"nc : 3\\n\" >> data/facemask.yaml\r\n",
        "!echo \"names: ['With_Mask', 'Without_Mask', 'Incorrect_Mask']\\n\" >> data/facemask.yaml\r\n",
        "\r\n",
        "!cat data/facemask.yaml"
      ],
      "execution_count": null,
      "outputs": [
        {
          "output_type": "stream",
          "text": [
            "train: Dataset/images/train\\n\n",
            "val:   Dataset/images/val\\n\n",
            "nc : 3\\n\n",
            "names: ['With_Mask', 'Without_Mask', 'Incorrect_Mask']\\n\n"
          ],
          "name": "stdout"
        }
      ]
    },
    {
      "cell_type": "code",
      "metadata": {
        "id": "3y4VWouSkuCu"
      },
      "source": [
        "%cd ../\r\n",
        "!ls"
      ],
      "execution_count": null,
      "outputs": []
    },
    {
      "cell_type": "markdown",
      "metadata": {
        "id": "tUX71eq4lYNP"
      },
      "source": [
        "## Train\r\n",
        "1. --data : dataset yml path\r\n",
        "2. --cfg : yolo v5 architecture path\r\n",
        "3. --weights : pre-trained model path\r\n",
        "\r\n",
        "**추가사항**  \r\n",
        "pre-trained하고 architecture뒤에 붙은 s는 뭔가요?!  \r\n",
        "s / m / l / x 로 나누어짐.  \r\n",
        "순서대로 무겁고 성능이 좋다."
      ]
    },
    {
      "cell_type": "code",
      "metadata": {
        "id": "qIyIDlC_lRNQ"
      },
      "source": [
        "!python train.py --img 320 --batch 16 --epochs 300 --data data/facemask.yaml --cfg models/yolov5s.yaml --weights yolov5s.pt"
      ],
      "execution_count": null,
      "outputs": []
    },
    {
      "cell_type": "code",
      "metadata": {
        "id": "K-9nBsxGmyQs"
      },
      "source": [
        "!cp yolov5/runs/train/exp/weights/last.pt .\r\n",
        "# 최근 작업한 것을 last로 저장.\r\n",
        "# 이중 성능이 좋았던 모델을 best로 저장"
      ],
      "execution_count": null,
      "outputs": []
    },
    {
      "cell_type": "markdown",
      "metadata": {
        "id": "I5ycw1fAnBsW"
      },
      "source": [
        "## Test\r\n",
        "1. --conf : threshold임\r\n",
        "2. --weights : model path\r\n",
        "3. --save-txt : txt로 저장하겠음"
      ]
    },
    {
      "cell_type": "code",
      "metadata": {
        "id": "kEg9Qou0nBTt"
      },
      "source": [
        "%cd yolov5"
      ],
      "execution_count": null,
      "outputs": []
    },
    {
      "cell_type": "code",
      "metadata": {
        "id": "kkg58DAam-Eb"
      },
      "source": [
        "!python3 detect.py --source Dataset/images/test --img-size 320 --conf 0.4 --weights weights/best.pt "
      ],
      "execution_count": null,
      "outputs": []
    }
  ]
}